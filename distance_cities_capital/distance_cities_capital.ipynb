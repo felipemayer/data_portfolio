{
 "cells": [
  {
   "cell_type": "code",
   "execution_count": null,
   "metadata": {},
   "outputs": [],
   "source": [
    "import pandas as pd\n",
    "from scrapy import Selector\n",
    "import requests"
   ]
  },
  {
   "cell_type": "code",
   "execution_count": null,
   "metadata": {},
   "outputs": [],
   "source": [
    "df_cities = pd.read_csv('cities.csv')\n",
    "\n",
    "df_cities"
   ]
  },
  {
   "cell_type": "code",
   "execution_count": null,
   "metadata": {},
   "outputs": [],
   "source": [
    "for i, row in df_cities.iterrows():\n",
    "\n",
    "    url = \"http://www.distanciasentrecidades.com/pesquisa\"\n",
    "\n",
    "    querystring = {\"from\":row['city'],\"to\":row['capital']}\n",
    "\n",
    "    response = requests.request(\"GET\", url, params=querystring)\n",
    "\n",
    "    x_path_distance = '//*[@id=\"kmslinearecta\"]//text()'\n",
    "\n",
    "    sel = Selector(text=response.text)\n",
    "\n",
    "    try:  \n",
    "        distance = sel.xpath(x_path_distance).get()\n",
    "\n",
    "        df_cities.loc[i, 'Distance'] = distance.replace('.', ',')\n",
    "    except:\n",
    "        df_cities.loc[i, 'Distance'] = 'Não foi possível encontrar'\n",
    "\n",
    "    print(row)"
   ]
  },
  {
   "cell_type": "code",
   "execution_count": null,
   "metadata": {},
   "outputs": [],
   "source": [
    "df_cities"
   ]
  },
  {
   "cell_type": "code",
   "execution_count": null,
   "metadata": {},
   "outputs": [],
   "source": [
    "df_cities.to_csv('final_distancia.csv')"
   ]
  }
 ],
 "metadata": {
  "kernelspec": {
   "display_name": "Python 3.9.12 ('base')",
   "language": "python",
   "name": "python3"
  },
  "language_info": {
   "codemirror_mode": {
    "name": "ipython",
    "version": 3
   },
   "file_extension": ".py",
   "mimetype": "text/x-python",
   "name": "python",
   "nbconvert_exporter": "python",
   "pygments_lexer": "ipython3",
   "version": "3.10.10"
  },
  "orig_nbformat": 4,
  "vscode": {
   "interpreter": {
    "hash": "58df9fa0e90299bf3bde098e8a523f66fe469562edc0f7aa230408e563ae91f9"
   }
  }
 },
 "nbformat": 4,
 "nbformat_minor": 2
}
