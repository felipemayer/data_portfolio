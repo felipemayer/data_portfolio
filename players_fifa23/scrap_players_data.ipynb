{
 "cells": [
  {
   "attachments": {},
   "cell_type": "markdown",
   "metadata": {},
   "source": [
    "# FIFA 23 - Ultimate team players\n",
    "\n",
    "Accessing the Futbin website to collect data of Players in FIFA 23 Ultimate Team.\\\n",
    "\n",
    "### Libs\n",
    "- Pandas - To load and manipulate data\n",
    "- Scrapy - To scrap data from a website"
   ]
  },
  {
   "cell_type": "code",
   "execution_count": 17,
   "metadata": {},
   "outputs": [],
   "source": [
    "import pandas as pd\n",
    "from selenium import webdriver    \n",
    "from datetime import  date\n",
    "from scrapy import Selector\n",
    "import time\n",
    "import warnings\n",
    "warnings.simplefilter(action='ignore', category=DeprecationWarning)\n",
    "warnings.simplefilter(action='ignore', category=FutureWarning)\n",
    "import random\n",
    "\n",
    "# defining today to use in some cases\n",
    "today = date.today()\n",
    "\n",
    "df_players = pd.DataFrame()"
   ]
  },
  {
   "attachments": {},
   "cell_type": "markdown",
   "metadata": {},
   "source": [
    "# Step 1 - Iterate over pages to get players data and sabe it on dataframe\n",
    "We need to instanciate a new driver every iteration to by-pass some anti-scrap blockers."
   ]
  },
  {
   "cell_type": "code",
   "execution_count": null,
   "metadata": {},
   "outputs": [],
   "source": [
    "# variable to pagination\n",
    "page_number = 1\n",
    "\n",
    "for page in range(185):\n",
    "    # Creating a webdriver instance\n",
    "    driver = webdriver.Chrome(r\"Users\\Felipe Mayer\\Downloads\\chromedriver_win32\")\n",
    "    url = 'https://www.futbin.com/players?page=' + str(page_number)\n",
    "            \n",
    "    driver.get(url)\n",
    "    time.sleep(random.randint(2, 5))\n",
    "\n",
    "    src = driver.page_source\n",
    "    sel = Selector(text=src)\n",
    "\n",
    "    players = sel.xpath('.//thead/following-sibling::tbody/tr[starts-with(@class, \"player_tr\")]')\n",
    "\n",
    "    for player in players:\n",
    "        index = len(df_players.index)\n",
    "        df_players.loc[index, 'Name'] = player.xpath('.//a[contains(@class, \"player_name_players_table\")]/text()').get(default='')\n",
    "        df_players.loc[index, 'Team'] = player.xpath('.//span[@class=\"players_club_nation\"]/a[1]/@data-original-title').get(default='')\n",
    "        df_players.loc[index, 'Country'] = player.xpath('.//span[@class=\"players_club_nation\"]/a[2]/@data-original-title').get(default='')\n",
    "        df_players.loc[index, 'League'] = player.xpath('.//span[@class=\"players_club_nation\"]/a[3]/@data-original-title').get(default='')\n",
    "        df_players.loc[index, 'Rating'] = player.xpath('.//span[contains(@class, \"rating\")]/text()').get(default='')\n",
    "        rating_type = player.xpath('.//span[contains(@class, \"rating\")]/@class').get(default='')\n",
    "        s = 'ut23'\n",
    "        ss = rating_type.split(s, 1)\n",
    "        df_players.loc[index, 'Rare'] = rating_type.split(s, 1)[1].split()[-1]\n",
    "        df_players.loc[index, 'Version color'] = ss[1].split(df_players.loc[index, 'Rare'], 1)[0]\n",
    "        df_players.loc[index, 'Position'] = player.xpath('./td[4]/div[1]/text()').get(default='')\n",
    "        df_players.loc[index, 'Other Positions'] = player.xpath('./td[4]/div[2]/text()').get(default='')\n",
    "        df_players.loc[index, 'Version'] = player.xpath('./td[5]/div[1]/text()').get(default='')\n",
    "        df_players.loc[index, 'Run type'] = player.xpath('./td[5]/div[2]/a/text()').get(default='').replace('/n', ' ').strip()\n",
    "        df_players.loc[index, 'Price'] = player.xpath('./td[6]/span/text()').get(default='')\n",
    "        df_players.loc[index, 'Skill'] = player.xpath('./td[7]/text()').get(default='')\n",
    "        df_players.loc[index, 'Weak foot'] = player.xpath('./td[8]/text()').get(default='')\n",
    "        df_players.loc[index, 'Attack rate'] = player.xpath('./td[9]/span[1]/text()').get(default='')\n",
    "        df_players.loc[index, 'Defense rate'] = player.xpath('./td[9]/span[2]/text()').get(default='')\n",
    "        df_players.loc[index, 'Pace'] = player.xpath('./td[10]/span/text()').get(default='')\n",
    "        df_players.loc[index, 'Shoot'] = player.xpath('./td[11]/span/text()').get(default='')\n",
    "        df_players.loc[index, 'Pass'] = player.xpath('./td[12]/span/text()').get(default='')\n",
    "        df_players.loc[index, 'Drible'] = player.xpath('./td[13]/span/text()').get(default='')\n",
    "        df_players.loc[index, 'Defense'] = player.xpath('./td[14]/span/text()').get(default='')\n",
    "        df_players.loc[index, 'Physical'] = player.xpath('./td[15]/span/text()').get(default='')\n",
    "        df_players.loc[index, 'Body type'] = player.xpath('./td[16]/div[2]/a/text()').get(default='')\n",
    "        df_players.loc[index, 'Height (cm)'] = player.xpath('./td[16]/div[1]/text()').get(default='').split('|')[0].replace('cm', ' ').strip()\n",
    "        weight = player.xpath('string(./td[16]/div[2])').get(default='')\n",
    "        if weight != '':\n",
    "            df_players.loc[index, 'Weight (kg)'] = weight.split('(')[1].replace('kg)', ' ').strip()\n",
    "        df_players.loc[index, 'Popularity'] = player.xpath('./td[17]/text()').get(default='')\n",
    "        df_players.loc[index, 'Base Stats'] = player.xpath('./td[18]/text()').get(default='')\n",
    "        df_players.loc[index, 'In Game Stats'] = player.xpath('./td[19]/text()').get(default='')\n",
    "        df_players.loc[index, 'Game version'] = 'FIFA 23'\n",
    "        df_players.loc[index, 'Updated at'] = today\n",
    "\n",
    "    driver.close()\n",
    "\n",
    "    page_number += 1\n",
    "\n",
    "display(df_players)"
   ]
  },
  {
   "attachments": {},
   "cell_type": "markdown",
   "metadata": {},
   "source": [
    "# Step 2 - Save it on a CSV to be used in futher analysis"
   ]
  },
  {
   "cell_type": "code",
   "execution_count": 20,
   "metadata": {},
   "outputs": [],
   "source": [
    "df_players.to_csv('players.csv')"
   ]
  }
 ],
 "metadata": {
  "kernelspec": {
   "display_name": "Python 3.9.12 ('base')",
   "language": "python",
   "name": "python3"
  },
  "language_info": {
   "codemirror_mode": {
    "name": "ipython",
    "version": 3
   },
   "file_extension": ".py",
   "mimetype": "text/x-python",
   "name": "python",
   "nbconvert_exporter": "python",
   "pygments_lexer": "ipython3",
   "version": "3.10.10"
  },
  "orig_nbformat": 4,
  "vscode": {
   "interpreter": {
    "hash": "58df9fa0e90299bf3bde098e8a523f66fe469562edc0f7aa230408e563ae91f9"
   }
  }
 },
 "nbformat": 4,
 "nbformat_minor": 2
}
